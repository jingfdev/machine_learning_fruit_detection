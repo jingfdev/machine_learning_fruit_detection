{
  "cells": [
    {
      "cell_type": "markdown",
      "metadata": {
        "id": "BeB10ZMav-SW"
      },
      "source": [
        "#Importing Dataset"
      ]
    },
    {
      "cell_type": "code",
      "execution_count": 2,
      "metadata": {
        "colab": {
          "base_uri": "https://localhost:8080/"
        },
        "id": "CkSZ9-gPukrQ",
        "outputId": "fcec2e59-d6e7-4351-cff4-bee2b7450c05"
      },
      "outputs": [
        {
          "name": "stderr",
          "output_type": "stream",
          "text": [
            "c:\\Users\\jingf\\anaconda3\\envs\\tf-env\\lib\\site-packages\\tqdm\\auto.py:21: TqdmWarning: IProgress not found. Please update jupyter and ipywidgets. See https://ipywidgets.readthedocs.io/en/stable/user_install.html\n",
            "  from .autonotebook import tqdm as notebook_tqdm\n"
          ]
        },
        {
          "name": "stdout",
          "output_type": "stream",
          "text": [
            "Path to dataset files: C:\\Users\\jingf\\.cache\\kagglehub\\datasets\\kritikseth\\fruit-and-vegetable-image-recognition\\versions\\8\n"
          ]
        }
      ],
      "source": [
        "import kagglehub\n",
        "\n",
        "# Download latest version\n",
        "path = kagglehub.dataset_download(\"kritikseth/fruit-and-vegetable-image-recognition\")\n",
        "\n",
        "print(\"Path to dataset files:\", path)"
      ]
    },
    {
      "cell_type": "markdown",
      "metadata": {
        "id": "5vUbBvinu8zW"
      },
      "source": [
        "#Importing libraries"
      ]
    },
    {
      "cell_type": "code",
      "execution_count": 3,
      "metadata": {
        "id": "4JsejDm3uxTS"
      },
      "outputs": [],
      "source": [
        "import tensorflow as tf\n",
        "import matplotlib.pyplot as plt"
      ]
    },
    {
      "cell_type": "markdown",
      "metadata": {
        "id": "i2w52yYrvTu9"
      },
      "source": [
        "#Data Preprocessing"
      ]
    },
    {
      "cell_type": "markdown",
      "metadata": {
        "id": "vU3NlcKCwlIZ"
      },
      "source": [
        "##Training Image preprocessing"
      ]
    },
    {
      "cell_type": "code",
      "execution_count": null,
      "metadata": {
        "colab": {
          "base_uri": "https://localhost:8080/"
        },
        "id": "Kjoa0oUHvQAv",
        "outputId": "35053f0d-5fd0-4b98-cd8f-fa0a88a79e8f"
      },
      "outputs": [
        {
          "name": "stdout",
          "output_type": "stream",
          "text": [
            "Found 3825 files belonging to 3 classes.\n"
          ]
        }
      ],
      "source": [
        "# use the downloaded dataset path stored in the variable `path`\n",
        "training_set = tf.keras.utils.image_dataset_from_directory(\n",
        "    path,\n",
        "    labels=\"inferred\", #Infers labels from directory structure\n",
        "    label_mode=\"categorical\", #One-hot encodes labels for multi-class (36 classes) classification\n",
        "    class_names=None, #Automatically infers class names from directory structure\n",
        "    color_mode=\"rgb\", #Loads images in RGB format\n",
        "    batch_size=32, #Processes 32 images at a time (memory efficiency)\n",
        "    image_size=(64, 64), #Resizes all images to 64x64 pixels for uniformity\n",
        "    shuffle=True, #Randomizes data order to prevent learning patterns from sequence\n",
        "    seed=None, #No specific seed for randomness\n",
        "    validation_split=None, #No validation split\n",
        "    subset=None, #No subset specified\n",
        "    interpolation=\"bilinear\", #Uses bilinear interpolation for resizing images\n",
        "    follow_links=False, #Does not follow symbolic links in the directory\n",
        "    crop_to_aspect_ratio=False #Does not crop images to maintain original aspect ratio\n",
        ")"
      ]
    },
    {
      "cell_type": "markdown",
      "metadata": {
        "id": "nK9Ev76o0mdJ"
      },
      "source": [
        "##Validation Image Preprocessing"
      ]
    },
    {
      "cell_type": "code",
      "execution_count": 5,
      "metadata": {
        "colab": {
          "base_uri": "https://localhost:8080/"
        },
        "id": "Tocls4IowkNB",
        "outputId": "3b0d8b3d-8552-4e0f-c1f2-7c9f7e28a944"
      },
      "outputs": [
        {
          "name": "stdout",
          "output_type": "stream",
          "text": [
            "Found 3825 files belonging to 3 classes.\n"
          ]
        }
      ],
      "source": [
        "validation_set = tf.keras.utils.image_dataset_from_directory(\n",
        "    path,\n",
        "    labels=\"inferred\",\n",
        "    label_mode=\"categorical\",\n",
        "    class_names=None,\n",
        "    color_mode=\"rgb\",\n",
        "    batch_size=32,\n",
        "    image_size=(64, 64),\n",
        "    shuffle=True,\n",
        "    seed=None,\n",
        "    validation_split=None,\n",
        "    subset=None,\n",
        "    interpolation=\"bilinear\",\n",
        "    follow_links=False,\n",
        "    crop_to_aspect_ratio=False\n",
        ")"
      ]
    },
    {
      "cell_type": "markdown",
      "metadata": {
        "id": "OQ_TcbD7r2Cw"
      },
      "source": [
        "#Building Model"
      ]
    },
    {
      "cell_type": "code",
      "execution_count": 6,
      "metadata": {
        "id": "cUMiJrPvsBTU"
      },
      "outputs": [],
      "source": [
        "cnn = tf.keras.models.Sequential()"
      ]
    },
    {
      "cell_type": "markdown",
      "metadata": {
        "id": "mgFWYq7ssLkV"
      },
      "source": [
        "##Building Convolution Layer"
      ]
    },
    {
      "cell_type": "markdown",
      "metadata": {},
      "source": [
        "1. Initial Feature Extraction"
      ]
    },
    {
      "cell_type": "code",
      "execution_count": null,
      "metadata": {
        "id": "LoaODWuZrHFg"
      },
      "outputs": [],
      "source": [
        "# Detects 32 different basic features (edges, colors, textures) from the input images\n",
        "cnn.add(tf.keras.layers.Conv2D(filters=32,kernel_size=3,padding='same',activation='relu',input_shape=[64,64,3]))\n",
        "# Adds non-linearity, helps learn complex patterns\n",
        "cnn.add(tf.keras.layers.Conv2D(filters=32,kernel_size=3,activation='relu'))\n",
        "# Reduces image size by 50%, keeps important features\n",
        "cnn.add(tf.keras.layers.MaxPool2D(pool_size=2,strides=2))"
      ]
    },
    {
      "cell_type": "code",
      "execution_count": null,
      "metadata": {
        "id": "b5-b7yo8mJHq"
      },
      "outputs": [],
      "source": [
        "# Randomly \"turns off\" 25% of neurons to prevent overfitting\n",
        "cnn.add(tf.keras.layers.Dropout(0.25))"
      ]
    },
    {
      "cell_type": "markdown",
      "metadata": {},
      "source": [
        "2. Deeper Feature Extraction"
      ]
    },
    {
      "cell_type": "code",
      "execution_count": null,
      "metadata": {
        "id": "5-potKmKsOr2"
      },
      "outputs": [],
      "source": [
        "# Detects more complex patterns (combinations of basic features)\n",
        "# Maintains consistency in architecture\n",
        "cnn.add(tf.keras.layers.Conv2D(filters=64,kernel_size=3,padding='same',activation='relu'))\n",
        "cnn.add(tf.keras.layers.Conv2D(filters=64,kernel_size=3,activation='relu'))\n",
        "cnn.add(tf.keras.layers.MaxPool2D(pool_size=2,strides=2))\n",
        "# Complex patterns like fruit textures, vegetable shapes, color combinations"
      ]
    },
    {
      "cell_type": "markdown",
      "metadata": {},
      "source": [
        "3. Dense Layers (Decision Making)"
      ]
    },
    {
      "cell_type": "code",
      "execution_count": null,
      "metadata": {
        "id": "0B29AmGWmZeV"
      },
      "outputs": [],
      "source": [
        "cnn.add(tf.keras.layers.Dropout(0.25)) "
      ]
    },
    {
      "cell_type": "code",
      "execution_count": null,
      "metadata": {
        "id": "NPZ2NGthuTv5"
      },
      "outputs": [],
      "source": [
        "# Converts 2D feature maps to 1D vector\n",
        "cnn.add(tf.keras.layers.Flatten())"
      ]
    },
    {
      "cell_type": "code",
      "execution_count": null,
      "metadata": {
        "id": "demjWjcWuc3q"
      },
      "outputs": [],
      "source": [
        "# 512 neurons combine features to make decisions\n",
        "cnn.add(tf.keras.layers.Dense(units=512,activation='relu'))"
      ]
    },
    {
      "cell_type": "code",
      "execution_count": null,
      "metadata": {
        "id": "_cD4jLBauZtk"
      },
      "outputs": [],
      "source": [
        "# Further refinement of decision-making\n",
        "cnn.add(tf.keras.layers.Dense(units=256,activation='relu'))"
      ]
    },
    {
      "cell_type": "code",
      "execution_count": null,
      "metadata": {
        "id": "2onuZO6YuBF3"
      },
      "outputs": [],
      "source": [
        "# Stronger dropout before final decision (prevents overfitting)\n",
        "cnn.add(tf.keras.layers.Dropout(0.5)) #To avoid overfitting"
      ]
    },
    {
      "cell_type": "code",
      "execution_count": null,
      "metadata": {
        "id": "toAqflkCuwoS"
      },
      "outputs": [],
      "source": [
        "# Final layer outputs probability for each of 36 classes\n",
        "cnn.add(tf.keras.layers.Dense(units=36,activation='softmax'))"
      ]
    },
    {
      "cell_type": "markdown",
      "metadata": {
        "id": "sYYdAFZDvt1P"
      },
      "source": [
        "#Compiling and Training Phase"
      ]
    },
    {
      "cell_type": "code",
      "execution_count": null,
      "metadata": {
        "id": "yAcyiEfVvVzw"
      },
      "outputs": [],
      "source": [
        "cnn.compile(optimizer='adam',loss='categorical_crossentropy',metrics=['accuracy'])\n",
        "# Smart learning algorithm (adjusts learning rate automatically)\n",
        "# Loss function for multi-class classification\n",
        "# Tracks how many predictions are correct"
      ]
    },
    {
      "cell_type": "code",
      "execution_count": 17,
      "metadata": {
        "colab": {
          "base_uri": "https://localhost:8080/"
        },
        "id": "X0MROJsdlC5Z",
        "outputId": "59099315-950c-4546-d62d-626f4ca3b80d"
      },
      "outputs": [
        {
          "name": "stdout",
          "output_type": "stream",
          "text": [
            "Model: \"sequential\"\n",
            "_________________________________________________________________\n",
            " Layer (type)                Output Shape              Param #   \n",
            "=================================================================\n",
            " conv2d (Conv2D)             (None, 64, 64, 32)        896       \n",
            "                                                                 \n",
            " conv2d_1 (Conv2D)           (None, 62, 62, 32)        9248      \n",
            "                                                                 \n",
            " max_pooling2d (MaxPooling2D  (None, 31, 31, 32)       0         \n",
            " )                                                               \n",
            "                                                                 \n",
            " dropout (Dropout)           (None, 31, 31, 32)        0         \n",
            "                                                                 \n",
            " conv2d_2 (Conv2D)           (None, 31, 31, 64)        18496     \n",
            "                                                                 \n",
            " conv2d_3 (Conv2D)           (None, 29, 29, 64)        36928     \n",
            "                                                                 \n",
            " max_pooling2d_1 (MaxPooling  (None, 14, 14, 64)       0         \n",
            " 2D)                                                             \n",
            "                                                                 \n",
            " dropout_1 (Dropout)         (None, 14, 14, 64)        0         \n",
            "                                                                 \n",
            " flatten (Flatten)           (None, 12544)             0         \n",
            "                                                                 \n",
            " dense (Dense)               (None, 512)               6423040   \n",
            "                                                                 \n",
            " dense_1 (Dense)             (None, 256)               131328    \n",
            "                                                                 \n",
            " dropout_2 (Dropout)         (None, 256)               0         \n",
            "                                                                 \n",
            " dense_2 (Dense)             (None, 36)                9252      \n",
            "                                                                 \n",
            "=================================================================\n",
            "Total params: 6,629,188\n",
            "Trainable params: 6,629,188\n",
            "Non-trainable params: 0\n",
            "_________________________________________________________________\n"
          ]
        }
      ],
      "source": [
        "cnn.summary()"
      ]
    },
    {
      "cell_type": "code",
      "execution_count": 18,
      "metadata": {
        "colab": {
          "base_uri": "https://localhost:8080/"
        },
        "id": "K3W4dNUrvxIw",
        "outputId": "c4d220dc-40d6-438e-b940-751b3e85b037"
      },
      "outputs": [],
      "source": [
        "#Output Layer# ensure the number of output units matches the dataset label dimension\n",
        "num_classes = training_set.element_spec[1].shape[-1]\n",
        "cnn.add(tf.keras.layers.Dense(units=int(num_classes), activation='softmax'))"
      ]
    },
    {
      "cell_type": "markdown",
      "metadata": {
        "id": "19E3mwj1phoW"
      },
      "source": [
        "##Evaluating Model"
      ]
    },
    {
      "cell_type": "code",
      "execution_count": 19,
      "metadata": {
        "colab": {
          "base_uri": "https://localhost:8080/"
        },
        "id": "iY6o3uxjpgl5",
        "outputId": "372a2b25-5cdd-47c0-da77-1e9a5ee84f6c"
      },
      "outputs": [
        {
          "name": "stdout",
          "output_type": "stream",
          "text": [
            "120/120 [==============================] - 23s 172ms/step - loss: 1.1092 - accuracy: 0.1129\n",
            "Training accuracy: 0.11294117569923401\n"
          ]
        }
      ],
      "source": [
        "#Training set Accuracy\n",
        "train_loss, train_acc = cnn.evaluate(training_set)\n",
        "print('Training accuracy:', train_acc)"
      ]
    },
    {
      "cell_type": "code",
      "execution_count": 20,
      "metadata": {
        "colab": {
          "base_uri": "https://localhost:8080/"
        },
        "id": "5SaQgd7bpgwl",
        "outputId": "0e82ce04-bdf8-4b31-bc00-cbb7198df7e7"
      },
      "outputs": [
        {
          "name": "stdout",
          "output_type": "stream",
          "text": [
            "120/120 [==============================] - 21s 161ms/step - loss: 1.1092 - accuracy: 0.1129\n",
            "Validation accuracy: 0.11294117569923401\n"
          ]
        }
      ],
      "source": [
        "#Validation set Accuracy\n",
        "val_loss, val_acc = cnn.evaluate(validation_set)\n",
        "print('Validation accuracy:', val_acc)"
      ]
    },
    {
      "cell_type": "markdown",
      "metadata": {
        "id": "Qxp0xsjVBGec"
      },
      "source": [
        "##Saving Model"
      ]
    },
    {
      "cell_type": "code",
      "execution_count": 21,
      "metadata": {
        "id": "EEUrBzCrxKt_"
      },
      "outputs": [],
      "source": [
        "cnn.save('trained_model.h5')"
      ]
    },
    {
      "cell_type": "code",
      "execution_count": 22,
      "metadata": {
        "colab": {
          "base_uri": "https://localhost:8080/"
        },
        "id": "BM-sILNMBwh1",
        "outputId": "3d1eb8a8-2742-4b1b-f8f3-10c1f0803975"
      },
      "outputs": [
        {
          "name": "stdout",
          "output_type": "stream",
          "text": [
            "Epoch 1/32\n",
            "120/120 [==============================] - 55s 439ms/step - loss: 0.9154 - accuracy: 0.6620 - val_loss: 0.7952 - val_accuracy: 0.8144\n",
            "Epoch 2/32\n",
            "120/120 [==============================] - 54s 442ms/step - loss: 0.7549 - accuracy: 0.8139 - val_loss: 0.7025 - val_accuracy: 0.8144\n",
            "Epoch 3/32\n",
            "120/120 [==============================] - 55s 444ms/step - loss: 0.7067 - accuracy: 0.8144 - val_loss: 0.6642 - val_accuracy: 0.8144\n",
            "Epoch 4/32\n",
            "120/120 [==============================] - 56s 452ms/step - loss: 0.6428 - accuracy: 0.8144 - val_loss: 0.6278 - val_accuracy: 0.8144\n",
            "Epoch 5/32\n",
            "120/120 [==============================] - 55s 450ms/step - loss: 0.6226 - accuracy: 0.8144 - val_loss: 0.6157 - val_accuracy: 0.8144\n",
            "Epoch 6/32\n",
            "120/120 [==============================] - 55s 450ms/step - loss: 0.6140 - accuracy: 0.8144 - val_loss: 0.6111 - val_accuracy: 0.8144\n",
            "Epoch 7/32\n",
            "120/120 [==============================] - 56s 452ms/step - loss: 0.6132 - accuracy: 0.8144 - val_loss: 0.6095 - val_accuracy: 0.8144\n",
            "Epoch 8/32\n",
            "120/120 [==============================] - 74s 603ms/step - loss: 0.6107 - accuracy: 0.8144 - val_loss: 0.6088 - val_accuracy: 0.8144\n",
            "Epoch 9/32\n",
            "120/120 [==============================] - 74s 600ms/step - loss: 0.6094 - accuracy: 0.8144 - val_loss: 0.6086 - val_accuracy: 0.8144\n",
            "Epoch 10/32\n",
            "120/120 [==============================] - 56s 455ms/step - loss: 0.6101 - accuracy: 0.8144 - val_loss: 0.6085 - val_accuracy: 0.8144\n",
            "Epoch 11/32\n",
            "120/120 [==============================] - 55s 451ms/step - loss: 0.6103 - accuracy: 0.8144 - val_loss: 0.6085 - val_accuracy: 0.8144\n",
            "Epoch 12/32\n",
            "120/120 [==============================] - 55s 450ms/step - loss: 0.6100 - accuracy: 0.8144 - val_loss: 0.6085 - val_accuracy: 0.8144\n",
            "Epoch 13/32\n",
            "120/120 [==============================] - 56s 454ms/step - loss: 0.6101 - accuracy: 0.8144 - val_loss: 0.6085 - val_accuracy: 0.8144\n",
            "Epoch 14/32\n",
            "120/120 [==============================] - 55s 451ms/step - loss: 0.6090 - accuracy: 0.8144 - val_loss: 0.6085 - val_accuracy: 0.8144\n",
            "Epoch 15/32\n",
            "120/120 [==============================] - 56s 451ms/step - loss: 0.6092 - accuracy: 0.8144 - val_loss: 0.6085 - val_accuracy: 0.8144\n",
            "Epoch 16/32\n",
            "120/120 [==============================] - 55s 450ms/step - loss: 0.6087 - accuracy: 0.8144 - val_loss: 0.6085 - val_accuracy: 0.8144\n",
            "Epoch 17/32\n",
            "120/120 [==============================] - 69s 568ms/step - loss: 0.6089 - accuracy: 0.8144 - val_loss: 0.6085 - val_accuracy: 0.8144\n",
            "Epoch 18/32\n",
            "120/120 [==============================] - 74s 599ms/step - loss: 0.6085 - accuracy: 0.8144 - val_loss: 0.6085 - val_accuracy: 0.8144\n",
            "Epoch 19/32\n",
            "120/120 [==============================] - 57s 464ms/step - loss: 0.6085 - accuracy: 0.8144 - val_loss: 0.6085 - val_accuracy: 0.8144\n",
            "Epoch 20/32\n",
            "120/120 [==============================] - 58s 467ms/step - loss: 0.6086 - accuracy: 0.8144 - val_loss: 0.6085 - val_accuracy: 0.8144\n",
            "Epoch 21/32\n",
            "120/120 [==============================] - 56s 455ms/step - loss: 0.6089 - accuracy: 0.8144 - val_loss: 0.6085 - val_accuracy: 0.8144\n",
            "Epoch 22/32\n",
            "120/120 [==============================] - 58s 468ms/step - loss: 0.6088 - accuracy: 0.8144 - val_loss: 0.6085 - val_accuracy: 0.8144\n",
            "Epoch 23/32\n",
            "120/120 [==============================] - 68s 557ms/step - loss: 0.6086 - accuracy: 0.8144 - val_loss: 0.6085 - val_accuracy: 0.8144\n",
            "Epoch 24/32\n",
            "120/120 [==============================] - 75s 605ms/step - loss: 0.6087 - accuracy: 0.8144 - val_loss: 0.6085 - val_accuracy: 0.8144\n",
            "Epoch 25/32\n",
            "120/120 [==============================] - 76s 615ms/step - loss: 0.6086 - accuracy: 0.8144 - val_loss: 0.6085 - val_accuracy: 0.8144\n",
            "Epoch 26/32\n",
            "120/120 [==============================] - 76s 618ms/step - loss: 0.6088 - accuracy: 0.8144 - val_loss: 0.6085 - val_accuracy: 0.8144\n",
            "Epoch 27/32\n",
            "120/120 [==============================] - 76s 616ms/step - loss: 0.6086 - accuracy: 0.8144 - val_loss: 0.6085 - val_accuracy: 0.8144\n",
            "Epoch 28/32\n",
            "120/120 [==============================] - 76s 616ms/step - loss: 0.6086 - accuracy: 0.8144 - val_loss: 0.6085 - val_accuracy: 0.8144\n",
            "Epoch 29/32\n",
            "120/120 [==============================] - 76s 616ms/step - loss: 0.6084 - accuracy: 0.8144 - val_loss: 0.6085 - val_accuracy: 0.8144\n",
            "Epoch 30/32\n",
            "120/120 [==============================] - 76s 615ms/step - loss: 0.6086 - accuracy: 0.8144 - val_loss: 0.6085 - val_accuracy: 0.8144\n",
            "Epoch 31/32\n",
            "120/120 [==============================] - 76s 617ms/step - loss: 0.6087 - accuracy: 0.8144 - val_loss: 0.6085 - val_accuracy: 0.8144\n",
            "Epoch 32/32\n",
            "120/120 [==============================] - 76s 615ms/step - loss: 0.6086 - accuracy: 0.8144 - val_loss: 0.6085 - val_accuracy: 0.8144\n"
          ]
        },
        {
          "data": {
            "text/plain": [
              "{'loss': [0.9153704643249512,\n",
              "  0.754948079586029,\n",
              "  0.7067054510116577,\n",
              "  0.6427958011627197,\n",
              "  0.6225555539131165,\n",
              "  0.6140338182449341,\n",
              "  0.6131688356399536,\n",
              "  0.6106958389282227,\n",
              "  0.6094139814376831,\n",
              "  0.6101446747779846,\n",
              "  0.6103186011314392,\n",
              "  0.6100247502326965,\n",
              "  0.6100805997848511,\n",
              "  0.6089751124382019,\n",
              "  0.6092016100883484,\n",
              "  0.6086778044700623,\n",
              "  0.6089022159576416,\n",
              "  0.6085431575775146,\n",
              "  0.6084958910942078,\n",
              "  0.6086063385009766,\n",
              "  0.6089134216308594,\n",
              "  0.6088467240333557,\n",
              "  0.6085989475250244,\n",
              "  0.6086506843566895,\n",
              "  0.6086411476135254,\n",
              "  0.6087536215782166,\n",
              "  0.6085886359214783,\n",
              "  0.6086058020591736,\n",
              "  0.6083833575248718,\n",
              "  0.6085554957389832,\n",
              "  0.6086583137512207,\n",
              "  0.6085897088050842],\n",
              " 'accuracy': [0.661960780620575,\n",
              "  0.8138561844825745,\n",
              "  0.814379096031189,\n",
              "  0.814379096031189,\n",
              "  0.814379096031189,\n",
              "  0.814379096031189,\n",
              "  0.814379096031189,\n",
              "  0.814379096031189,\n",
              "  0.814379096031189,\n",
              "  0.814379096031189,\n",
              "  0.814379096031189,\n",
              "  0.814379096031189,\n",
              "  0.814379096031189,\n",
              "  0.814379096031189,\n",
              "  0.814379096031189,\n",
              "  0.814379096031189,\n",
              "  0.814379096031189,\n",
              "  0.814379096031189,\n",
              "  0.814379096031189,\n",
              "  0.814379096031189,\n",
              "  0.814379096031189,\n",
              "  0.814379096031189,\n",
              "  0.814379096031189,\n",
              "  0.814379096031189,\n",
              "  0.814379096031189,\n",
              "  0.814379096031189,\n",
              "  0.814379096031189,\n",
              "  0.814379096031189,\n",
              "  0.814379096031189,\n",
              "  0.814379096031189,\n",
              "  0.814379096031189,\n",
              "  0.814379096031189],\n",
              " 'val_loss': [0.7951794862747192,\n",
              "  0.7025076746940613,\n",
              "  0.664193868637085,\n",
              "  0.6277680397033691,\n",
              "  0.6156738996505737,\n",
              "  0.6110760569572449,\n",
              "  0.6094724535942078,\n",
              "  0.6088343858718872,\n",
              "  0.6086099147796631,\n",
              "  0.608515202999115,\n",
              "  0.6084855198860168,\n",
              "  0.6084892749786377,\n",
              "  0.6084837913513184,\n",
              "  0.6084809303283691,\n",
              "  0.608474612236023,\n",
              "  0.6084689497947693,\n",
              "  0.6084631085395813,\n",
              "  0.608463704586029,\n",
              "  0.6084622740745544,\n",
              "  0.6084625124931335,\n",
              "  0.6084619164466858,\n",
              "  0.6084628105163574,\n",
              "  0.6084624528884888,\n",
              "  0.6084627509117126,\n",
              "  0.6084641814231873,\n",
              "  0.6084629893302917,\n",
              "  0.6084631085395813,\n",
              "  0.6084615588188171,\n",
              "  0.608462929725647,\n",
              "  0.6084620952606201,\n",
              "  0.6084615588188171,\n",
              "  0.608462393283844],\n",
              " 'val_accuracy': [0.814379096031189,\n",
              "  0.814379096031189,\n",
              "  0.814379096031189,\n",
              "  0.814379096031189,\n",
              "  0.814379096031189,\n",
              "  0.814379096031189,\n",
              "  0.814379096031189,\n",
              "  0.814379096031189,\n",
              "  0.814379096031189,\n",
              "  0.814379096031189,\n",
              "  0.814379096031189,\n",
              "  0.814379096031189,\n",
              "  0.814379096031189,\n",
              "  0.814379096031189,\n",
              "  0.814379096031189,\n",
              "  0.814379096031189,\n",
              "  0.814379096031189,\n",
              "  0.814379096031189,\n",
              "  0.814379096031189,\n",
              "  0.814379096031189,\n",
              "  0.814379096031189,\n",
              "  0.814379096031189,\n",
              "  0.814379096031189,\n",
              "  0.814379096031189,\n",
              "  0.814379096031189,\n",
              "  0.814379096031189,\n",
              "  0.814379096031189,\n",
              "  0.814379096031189,\n",
              "  0.814379096031189,\n",
              "  0.814379096031189,\n",
              "  0.814379096031189,\n",
              "  0.814379096031189]}"
            ]
          },
          "execution_count": 22,
          "metadata": {},
          "output_type": "execute_result"
        }
      ],
      "source": [
        "# Ensure the model is compiled with the final output layer included (recompile if layers were added after previous compile)\n",
        "cnn.compile(optimizer='adam', loss='categorical_crossentropy', metrics=['accuracy'])\n",
        "\n",
        "# Train the model and save the History object to training_history so subsequent cells can use it\n",
        "training_history = cnn.fit(\n",
        "\ttraining_set,\n",
        "\tvalidation_data=validation_set,\n",
        "\tepochs=32\n",
        ")\n",
        "\n",
        "# Return dictionary of history\n",
        "training_history.history"
      ]
    },
    {
      "cell_type": "code",
      "execution_count": 23,
      "metadata": {
        "id": "GdF3Ig4ZBU9V"
      },
      "outputs": [],
      "source": [
        "#Recording History in json\n",
        "import json\n",
        "with open('training_hist.json','w') as f:\n",
        "  json.dump(training_history.history,f)"
      ]
    },
    {
      "cell_type": "code",
      "execution_count": 24,
      "metadata": {
        "colab": {
          "base_uri": "https://localhost:8080/"
        },
        "id": "w8PnAYbuCNhu",
        "outputId": "665cd52d-4777-4e7e-9c04-cc7716c5fb62"
      },
      "outputs": [
        {
          "name": "stdout",
          "output_type": "stream",
          "text": [
            "dict_keys(['loss', 'accuracy', 'val_loss', 'val_accuracy'])\n"
          ]
        }
      ],
      "source": [
        "print(training_history.history.keys())"
      ]
    },
    {
      "cell_type": "markdown",
      "metadata": {
        "id": "ZwTEcIavCjZ8"
      },
      "source": [
        "##Calculating Accuracy of Model Achieved on Validation set"
      ]
    },
    {
      "cell_type": "code",
      "execution_count": 25,
      "metadata": {
        "colab": {
          "base_uri": "https://localhost:8080/"
        },
        "id": "Z8Q2t6FXCUzR",
        "outputId": "c4d17e44-87e0-4d1a-adf9-419e81c704ce"
      },
      "outputs": [
        {
          "name": "stdout",
          "output_type": "stream",
          "text": [
            "Validation set Accuracy: 81.4379096031189 %\n"
          ]
        }
      ],
      "source": [
        "print(\"Validation set Accuracy: {} %\".format(training_history.history['val_accuracy'][-1]*100))"
      ]
    },
    {
      "cell_type": "markdown",
      "metadata": {
        "id": "qNIMPXKFEZ5B"
      },
      "source": [
        "#Accuracy Visualization"
      ]
    },
    {
      "cell_type": "markdown",
      "metadata": {
        "id": "Mdg9Zjp2EfSa"
      },
      "source": [
        "##Training Visualization"
      ]
    },
    {
      "cell_type": "code",
      "execution_count": null,
      "metadata": {
        "id": "fAvJjfBAFNJx"
      },
      "outputs": [
        {
          "data": {
            "text/plain": [
              "[0.661960780620575,\n",
              " 0.8138561844825745,\n",
              " 0.814379096031189,\n",
              " 0.814379096031189,\n",
              " 0.814379096031189,\n",
              " 0.814379096031189,\n",
              " 0.814379096031189,\n",
              " 0.814379096031189,\n",
              " 0.814379096031189,\n",
              " 0.814379096031189,\n",
              " 0.814379096031189,\n",
              " 0.814379096031189,\n",
              " 0.814379096031189,\n",
              " 0.814379096031189,\n",
              " 0.814379096031189,\n",
              " 0.814379096031189,\n",
              " 0.814379096031189,\n",
              " 0.814379096031189,\n",
              " 0.814379096031189,\n",
              " 0.814379096031189,\n",
              " 0.814379096031189,\n",
              " 0.814379096031189,\n",
              " 0.814379096031189,\n",
              " 0.814379096031189,\n",
              " 0.814379096031189,\n",
              " 0.814379096031189,\n",
              " 0.814379096031189,\n",
              " 0.814379096031189,\n",
              " 0.814379096031189,\n",
              " 0.814379096031189,\n",
              " 0.814379096031189,\n",
              " 0.814379096031189]"
            ]
          },
          "execution_count": 26,
          "metadata": {},
          "output_type": "execute_result"
        }
      ],
      "source": [
        "#training_history.history['accuracy']"
      ]
    },
    {
      "cell_type": "code",
      "execution_count": 27,
      "metadata": {
        "colab": {
          "base_uri": "https://localhost:8080/",
          "height": 295
        },
        "id": "gfKdieuJCt3m",
        "outputId": "00c39bea-d59d-48bd-a9bb-f819e1313252"
      },
      "outputs": [
        {
          "data": {
            "image/png": "[encoded data removed]",
            "text/plain": [
              "<Figure size 640x480 with 1 Axes>"
            ]
          },
          "metadata": {},
          "output_type": "display_data"
        }
      ],
      "source": [
        "epochs = [i for i in range(1,33)]\n",
        "plt.plot(epochs,training_history.history['accuracy'],color='red')\n",
        "plt.xlabel('No. of Epochs')\n",
        "plt.ylabel('Traiining Accuracy')\n",
        "plt.title('Visualization of Training Accuracy Result')\n",
        "plt.show()"
      ]
    },
    {
      "cell_type": "markdown",
      "metadata": {
        "id": "FbOcpJL1FvJG"
      },
      "source": [
        "##Validation Accuracy"
      ]
    },
    {
      "cell_type": "code",
      "execution_count": 28,
      "metadata": {
        "colab": {
          "base_uri": "https://localhost:8080/",
          "height": 295
        },
        "id": "ZXyC9WAJEs-B",
        "outputId": "a7d14eba-7481-4b55-c7bb-a0e3821ee77e"
      },
      "outputs": [
        {
          "data": {
            "image/png": "[encoded data removed]",
            "text/plain": [
              "<Figure size 640x480 with 1 Axes>"
            ]
          },
          "metadata": {},
          "output_type": "display_data"
        }
      ],
      "source": [
        "plt.plot(epochs,training_history.history['val_accuracy'],color='blue')\n",
        "plt.xlabel('No. of Epochs')\n",
        "plt.ylabel('Validation Accuracy')\n",
        "plt.title('Visualization of Validation Accuracy Result')\n",
        "plt.show()"
      ]
    },
    {
      "cell_type": "code",
      "execution_count": null,
      "metadata": {
        "id": "6mB3DkYFEuRg"
      },
      "outputs": [],
      "source": []
    },
    {
      "cell_type": "markdown",
      "metadata": {
        "id": "IJfYwGbmASaL"
      },
      "source": [
        "##Test set Evaluation"
      ]
    },
    {
      "cell_type": "code",
      "execution_count": 30,
      "metadata": {
        "colab": {
          "base_uri": "https://localhost:8080/"
        },
        "id": "fGs_0S4AAUj_",
        "outputId": "6e85b3b3-0784-47c9-8001-f1d5213cdfd6"
      },
      "outputs": [
        {
          "name": "stdout",
          "output_type": "stream",
          "text": [
            "Found 3825 files belonging to 3 classes.\n"
          ]
        }
      ],
      "source": [
        "test_set = tf.keras.utils.image_dataset_from_directory(\n",
        "    path,\n",
        "    labels=\"inferred\",\n",
        "    label_mode=\"categorical\",\n",
        "    class_names=None,\n",
        "    color_mode=\"rgb\",\n",
        "    batch_size=32,\n",
        "    image_size=(64, 64),\n",
        "    shuffle=True,\n",
        "    seed=None,\n",
        "    validation_split=None,\n",
        "    subset=None,\n",
        "    interpolation=\"bilinear\",\n",
        "    follow_links=False,\n",
        "    crop_to_aspect_ratio=False\n",
        ")"
      ]
    },
    {
      "cell_type": "code",
      "execution_count": 31,
      "metadata": {
        "colab": {
          "base_uri": "https://localhost:8080/"
        },
        "id": "GdMcF4vnAYuM",
        "outputId": "773cc9ab-c1e7-4a0b-ecf0-ee0e1ee50efc"
      },
      "outputs": [
        {
          "name": "stdout",
          "output_type": "stream",
          "text": [
            "120/120 [==============================] - 21s 167ms/step - loss: 0.6085 - accuracy: 0.8144\n",
            "Test accuracy: 0.814379096031189\n"
          ]
        }
      ],
      "source": [
        "test_loss,test_acc = cnn.evaluate(test_set)\n",
        "print('Test accuracy:', test_acc)"
      ]
    },
    {
      "cell_type": "code",
      "execution_count": null,
      "metadata": {
        "id": "MmHXzT0PAiOn"
      },
      "outputs": [],
      "source": []
    }
  ],
  "metadata": {
    "colab": {
      "provenance": []
    },
    "kernelspec": {
      "display_name": "tf-env",
      "language": "python",
      "name": "python3"
    },
    "language_info": {
      "codemirror_mode": {
        "name": "ipython",
        "version": 3
      },
      "file_extension": ".py",
      "mimetype": "text/x-python",
      "name": "python",
      "nbconvert_exporter": "python",
      "pygments_lexer": "ipython3",
      "version": "3.10.16"
    }
  },
  "nbformat": 4,
  "nbformat_minor": 0
}
